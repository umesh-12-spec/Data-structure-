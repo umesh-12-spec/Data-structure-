{
  "nbformat": 4,
  "nbformat_minor": 0,
  "metadata": {
    "colab": {
      "provenance": []
    },
    "kernelspec": {
      "name": "python3",
      "display_name": "Python 3"
    },
    "language_info": {
      "name": "python"
    }
  },
  "cells": [
    {
      "cell_type": "markdown",
      "source": [
        "# Data Types and Structures"
      ],
      "metadata": {
        "id": "CSFFklcxINzy"
      }
    },
    {
      "cell_type": "markdown",
      "source": [
        "## Theorical Question and Answers"
      ],
      "metadata": {
        "id": "OMLVYvHyIegH"
      }
    },
    {
      "cell_type": "markdown",
      "source": [
        "1. What are data structures, and why are they important?\n",
        "     - Data structures are the ways of organizing and storing data. so that it can be accessed and manipulated efficiently.\n",
        "\n",
        "     Types of data structures :-  Strings, lists, tuples,sets,dictionaries,arrays.\n",
        "\n",
        "     Importance of data structures :-  \n",
        "     Data structures are important because they organize data efficiently. making it easy to store, access and modify. They improve program performance by reducing time and space complexity choosing the right data structure helps to solve problems efficiently and ensures maintainability and readability of code."
      ],
      "metadata": {
        "id": "FyOuYZg3IwF0"
      }
    },
    {
      "cell_type": "markdown",
      "source": [
        "2.  Explain the difference between mutable and immutable data types with\n",
        "    examples.\n",
        "    - Mutable data types can be changed after creation by allowing modifications like adding,removing or updating  elements (e.g., lists, dictionaries, sets).\n",
        "\n",
        "    Example of a mutable data type :-\n",
        "\n",
        "    List_ = [1,2,3]\n",
        "\n",
        "    List_[0] = 6 #Modifies the first element\n",
        "\n",
        "    print(List_) #Updates the list and print the modified value by showing it is mutable.\n",
        "\n",
        "    - immutable data types cannot be changed after they are created once(e.g., tuples).\n",
        "\n",
        "    Example of an immutable data type :-\n",
        "\n",
        "    Tuple_ = (1,2,3)\n",
        "\n",
        "    Tuple_[0] = 6 #Truing to modify the first element\n",
        "\n",
        "    print(Tuple_) #This will raise an error by showing tuples cannot be modified."
      ],
      "metadata": {
        "id": "gadRmtiuIwCV"
      }
    },
    {
      "cell_type": "markdown",
      "source": [
        "3.  What are the main differences between lists and tuples in Python?\n",
        "    - In python, lists and tuples both are used to store collections of items, but they have major differences. They are :-\n",
        "\n",
        "        => Lists are mutable and their content can be changed, where as tuples are immutable and cannot be modified after creation.\n",
        "\n",
        "        => Lists are created using square brackets [ ], where as tuples are created using parentheses( ).\n",
        "\n",
        "        => Lists are more flexible with methods like, append( ), remove( ), etc for modifying elements, while tuples are faster and more memory - efficient due to their fixed nature.\n",
        "\n",
        "        => Lists are ideal for dynamic data, while tuples are best for fixed data that shouldn't change."
      ],
      "metadata": {
        "id": "iG6LFZJ9Iv_K"
      }
    },
    {
      "cell_type": "markdown",
      "source": [
        "4. Describe how dictionaries store data.\n",
        "    - Dictionaries are a powerful and flexible way to store data.\n",
        "    - They store data in key-value pairs, allowing for efficient data retrieval.                                         \n",
        "    - Keys must be unique and immutable, while values can be of any data type.  \n",
        "    -Dictionaries use a hash table to store these pairs, providing fast access, inserting, and deleting operations.\n",
        "    - They are ideal for scenarios where you need to associate unique keys with specific values, such as storing user information or configuration settings."
      ],
      "metadata": {
        "id": "PSAuw5K6Iv7-"
      }
    },
    {
      "cell_type": "markdown",
      "source": [
        "5. Why might you use a set instead of a list in Python?\n",
        "   - You might use a set instead of a list when you need to store unique elements and perform operations like membership tests, union, intersection, and difference efficiently. Sets automatically remove duplicate elements, ensuring that all items are unique. They also provide faster membership testing compared to lists because sets are implemented using hash tables. However, sets are unordered, if you need to maintain the order of elements, a list would be more appropriate.\n",
        "\n"
      ],
      "metadata": {
        "id": "2z_nm4B_Iv5D"
      }
    },
    {
      "cell_type": "markdown",
      "source": [
        "6. What is a string in Python, and how is it different from a list?\n",
        "    - A string in Python is a sequence of characters enclosed in either single quotes( '...' ) or double quotes( \"...\" ). Strings are immutable. You can perform various operations on strings, such as concatenation, slicing, and formatting.\n",
        "    \n",
        "    Where as, list is a collection of items enclosed in square brackets ([ ]). Lists are mutable, meaning you can modify their content by adding, removing, or changing elements. Lists can contain items of different data types, including other lists."
      ],
      "metadata": {
        "id": "X1Xq35T4iZUb"
      }
    },
    {
      "cell_type": "markdown",
      "source": [
        "7. How do tuples ensure data integrity in Python?\n",
        "    - Tuples ensures data integrity as they are immutable. due to this immutability the data stored in a tuple remains constant throughout the program, preventing modifications. As a result, tuples are ideal for storing fixed collections of data, such as coordinates, configuration settings, or any data that should remain unchanged. This property makes tuples reliable for maintaining the integrity of data that must stay consistent."
      ],
      "metadata": {
        "id": "Ow4GtT3JzIqf"
      }
    },
    {
      "cell_type": "markdown",
      "source": [
        "8. What is a hash table, and how does it relate to dictionaries in Python?\n",
        "    - A hash table is a data structure that stores key-value pairs and allows for efficient data collection. It uses a hash function to compute an index (or hash code) into an array of slots, from which the desired value can be obtained. This makes operations like insertion, deletion, and lookup very fast, typically on average.\n",
        "    \n",
        "    Dictionaries are implemented using hash tables. When you add a key-value pair to a dictionary, the key is hashed to determine the index in the hash table where the value will be stored. This allows for quick access to values based on their keys, making dictionaries a powerful and efficient way to manage data.\n",
        "\n"
      ],
      "metadata": {
        "id": "2r_KKNka2S8b"
      }
    },
    {
      "cell_type": "markdown",
      "source": [
        "9. Can lists contain different data types in Python?\n",
        "    - Yes, in python lists can contain different data types."
      ],
      "metadata": {
        "id": "rf4AiSUr7yKY"
      }
    },
    {
      "cell_type": "markdown",
      "source": [
        "10. Explain why strings are immutable in Python?\n",
        "     - Strings in Python are immutable for several important reasons. They are:-\n",
        "     - Immutability enhances efficiency by allowing Python to share and reuse string objects, reducing memory consumption.\n",
        "     - It ensures thread safety, as immutable objects can be accessed by multiple threads without causing data corruption.\n",
        "     - Immutability is crucial for hashing, making strings reliable and efficient for use as keys in dictionaries and sets.\n",
        "     -Immutability simplifies the design and implementation of the language, reducing complexity and avoiding potential bugs.\n",
        "     - Overall, the immutability of strings in Python enhances performance, safety, and simplicity, making them a reliable choice for handling text data.\n",
        "\n"
      ],
      "metadata": {
        "id": "CW3UiwrU8vwy"
      }
    },
    {
      "cell_type": "markdown",
      "source": [
        "11.  What advantages do dictionaries offer over lists for certain tasks?\n",
        "      - Dictionaries offer several advantages over lists for certain tasks like :      \n",
        "      =>  Quick Access: Dictionaries enable quick access to data using keys, outperforming lists for such operations.\n",
        "\n",
        "      => Key-Value Pair Storage: Dictionaries store data in key-value pairs, allowing for more meaningful and organized data collection compared to lists, which store data in a sequential manner.\n",
        "\n",
        "      => Uniqueness: Keys in dictionaries must be unique, ensuring that each key maps to a single value, which helps to prevent duplicate entries.\n",
        "\n",
        "      => Flexibility: Dictionaries can store complex data structures and allows to easily access and manipulate the data using keys.\n",
        "\n",
        "      => Dynamic Data: Dictionaries are ideal for scenarios where data needs to be dynamically updated, such as storing user information, configuration settings, or counting occurrences of items.\n",
        "\n",
        "     - These advantages make dictionaries a powerful and efficient choice for managing and retrieving data in Python.\n"
      ],
      "metadata": {
        "id": "Vv7wL9noS4Vd"
      }
    },
    {
      "cell_type": "markdown",
      "source": [
        "12. Describe a scenario where using a tuple would be preferable over a list.\n",
        "     - Using a tuple is better than a list when you want to store a collection of items that should not change.\n",
        "\n",
        "     For example, if you have a set of fixed values like the days of the week or the names of the months, you can use a tuple to make sure these values stay the same throughout your program. Tuples are also useful for storing data that you want to protect from being accidentally modified, ensuring the information remains consistent and reliable.\n",
        "\n"
      ],
      "metadata": {
        "id": "1eNOaN1YaeZV"
      }
    },
    {
      "cell_type": "markdown",
      "source": [
        "13.  How do sets handle duplicate values in Python?\n",
        "      - In Python, sets automatically handle duplicate values by removing them. When you add elements to a set, any duplicates are removed, ensuring that each element is unique. This makes sets ideal for storing collections of distinct items and performing operations like union, intersection, and difference efficiently.  \n",
        "             \n",
        "      Example:          \n",
        "      my_set = {1, 2, 2, 3, 4, 4, 5}         \n",
        "      print(my_set)  # Output: {1, 2, 3, 4, 5}\n",
        "\n",
        "      In this example, the duplicate values 2 and 4 are automatically removed, resulting in a set with unique elements."
      ],
      "metadata": {
        "id": "ABs-y19meCm-"
      }
    },
    {
      "cell_type": "markdown",
      "source": [
        "14.  How does the  “in”  keyword work differently for lists and dictionaries?\n",
        "      - The 'in' keyword works differently for lists and dictionaries in Python:                            \n",
        "\n",
        "      Lists:        \n",
        "      -  Membership Test: The 'in' keyword checks if a specific value is present in the list or not.\n",
        "\n",
        "      Example:            \n",
        "\n",
        "      my_list = [1, 2, 3, 4, 5]             \n",
        "      print(3 in my_list)  # Output: True         \n",
        "      print(6 in my_list)  # Output: False\n",
        "      \n",
        "      Dictionaries:\n",
        "\n",
        "      - Key Test: The 'in' keyword checks if a specific key is present in the dictionary or not.\n",
        "\n",
        "       Example:\n",
        "\n",
        "       my_dict = { 'a': 1, 'b': 2, 'c': 3 }              \n",
        "       print('b' in my_dict)  # Output: True             \n",
        "       print('d' in my_dict)  # Output: False\n",
        "\n",
        "       Hence, the 'in' keyword checks for the presence of values in lists and the presence of keys in dictionaries.\n"
      ],
      "metadata": {
        "id": "2RiIoT1tl9xh"
      }
    },
    {
      "cell_type": "markdown",
      "source": [
        "15.  Can you modify the elements of a tuple? Explain why or why not.\n",
        "      - No, you cannot modify the elements of a tuple in Python.Because Tuples are immutable. This immutability ensures that the data stored in a tuple remains constant throughout the program, preventing accidental modifications. If you need a collection of items that can be changed, you should use a list instead of tuple. Tuples are ideal for storing fixed collections of data, such as coordinates, configuration settings, or any data that should remain unchanged.\n",
        "\n"
      ],
      "metadata": {
        "id": "38mTv2orrdi5"
      }
    },
    {
      "cell_type": "markdown",
      "source": [
        "16.  What is a nested dictionary, and give an example of its use case?\n",
        "      - A nested dictionary in Python is a dictionary within another dictionary. This allows you to store and organize complex data structures in a hierarchical manner. Each key in the outer dictionary can map to another dictionary, enabling you to create multi-level data representations.          \n",
        "\n",
        "      Example Use Case:\n",
        "\n",
        "      Consider a scenario where you want to store information about students and their grades in different subjects. A nested dictionary can be used to organize this data efficiently.\n",
        "\n",
        "     students = { \"ram\" : {\"English\" : 80, \"Maths\" : 75, \"Science\" : 99 },\n",
        "       \"shiva\" : {\"English\" : 84, \"Maths\" : 82, \"Science\" : 90 } }\n",
        "\n",
        "     #Accessing nested dictionary values                \n",
        "     print(students[\"ram\"][\"Math\"])  # Output: 75       \n",
        "     print(students[\"shiva\"][\"Science\"])  # Output: 90\n",
        "\n",
        "     In this example, the outer dictionary students contains keys representing student names, and each value is another dictionary containing subjects and their corresponding marks. This structure allows you to easily access and manage the data for each student and their subjects.\n"
      ],
      "metadata": {
        "id": "tleaPo-Uz0jz"
      }
    },
    {
      "cell_type": "markdown",
      "source": [
        "17.  Describe the time complexity of accessing elements in a dictionary.\n",
        "      - Accessing elements in a dictionary in Python is very efficient. Retrieving a value based on its key is typically very fast, regardless of the size of the dictionary. This efficiency is due to the underlying hash table implementation of dictionaries, which allows for quick lookups by computing the hash of the key and directly accessing the corresponding value. However, in rare cases, such as when there are many hash collisions, the time it takes to access an element can increase. But overall, Python's hash table implementation is designed to minimize collisions and maintain efficient performance."
      ],
      "metadata": {
        "id": "kI3pBHa79bKY"
      }
    },
    {
      "cell_type": "markdown",
      "source": [
        "18.  In what situations are lists preferred over dictionaries?\n",
        "      - Lists are preferred over dictionaries in several situations due to their unique properties and advantages. One of the primary reasons is that lists maintain the order of elements, which is essential when you need to preserve the sequence of items. This is particularly useful for tasks like sorting, sequencing, or iterating through items in a specific order.\n",
        "\n",
        "      -Another advantage of lists is their ability to provide index-based access. This means you can easily retrieve, modify, or iterate through items based on their position in the list. This feature is especially helpful when dealing with ordered data or when you need to access elements by their index.\n",
        "\n",
        "      - Lists are also ideal for storing homogeneous data, such as a collection of numbers, strings, or objects. They provide a simple and efficient way to manage and manipulate similar items. Additionally, lists are more easier to use for straightforward data storage and manipulation, making them a natural choice for simple data structures.\n",
        "\n",
        "      - In terms of memory efficiency, lists can be more efficient than dictionaries when storing large amounts of data. This is because lists do not require the overhead of storing keys, which can save memory space.\n",
        "\n",
        "     - Hence, Overall, lists are preferred when you need ordered, index-based access to homogeneous data and when simplicity and memory efficiency are important considerations. They offer a versatile and efficient way to manage collections of items in Python."
      ],
      "metadata": {
        "id": "VcJBXbrzAOIL"
      }
    },
    {
      "cell_type": "markdown",
      "source": [
        "19.  Why are dictionaries considered unordered, and how does that affect data retrieval?\n",
        "     - Dictionaries in Python are considered unordered because they do not maintain the order of elements based on their insertion. Instead, dictionaries use a hash table to store key-value pairs, which allows for efficient data retrieval but does not guarantee any specific order of the elements.                 \n",
        "\n",
        "         This unordered nature affects data retrieval in the following ways:\n",
        "\n",
        "        => No Sequential Access: You cannot rely on the order of elements when iterating through a dictionary. The order in which keys and values are retrieved may differ from the order in which they were added.\n",
        "\n",
        "        => Efficient Lookups: Despite being unordered, dictionaries provide very fast lookups for values based on their keys. This is because the hash table allows for direct access to the value associated with a given key.\n",
        "\n",
        "        => Key-Based Access: Since dictionaries are designed for key-based access, you can quickly retrieve, update, or delete values using their keys, without worrying about the order of elements.\n",
        "\n",
        "        Overall, the unordered nature of dictionaries allows for efficient data retrieval and manipulation based on keys, making them a powerful tool for managing key-value pairs in Python."
      ],
      "metadata": {
        "id": "iZZygx0kSkKr"
      }
    },
    {
      "cell_type": "markdown",
      "source": [
        "20. Explain the difference between a list and a dictionary in terms of data retrieval.\n",
        "     - Lists and dictionaries in Python differ significantly in terms of data retrieval :-\n",
        "\n",
        "     Lists:              \n",
        "     Index-Based Access: Lists allow you to access elements by their index. You can retrieve an item by specifying its position in the list.           \n",
        "\n",
        "     Sequential Order: Lists maintain the order of elements based on their insertion. This means you can iterate through the list in the same order the elements were added.\n",
        "\n",
        "     Example:\n",
        "\n",
        "     my_list = [10, 20, 30, 40, 50]            \n",
        "     print(my_list[2])  # Output: 30\n",
        "     \n",
        "     Dictionaries:\n",
        "\n",
        "     Key-Based Access: Dictionaries store data in key-value pairs, allowing you to retrieve values based on their unique keys.\n",
        "\n",
        "     Unordered: Dictionaries do not maintain the order of elements based on their insertion. Instead, they use a hash table to store     key-value pairs, which allows for efficient lookups.\n",
        "\n",
        "     Example:\n",
        "\n",
        "     my_dict = {'a': 1, 'b': 2, 'c': 3}                \n",
        "     print (my_dict['b'])  # Output: 2\n",
        "     \n",
        "     Hence, lists provide index-based access and maintain the order of elements, making them suitable for sequential data. Where as dictionaries offer key-based access and are optimized for quick lookups, making them ideal for storing and retrieving data using unique keys."
      ],
      "metadata": {
        "id": "Ai7G6NuEVntf"
      }
    },
    {
      "cell_type": "markdown",
      "source": [
        "## Practical Question and answers"
      ],
      "metadata": {
        "id": "2J_bj0hzcErJ"
      }
    },
    {
      "cell_type": "markdown",
      "source": [
        "1. Write a code to create a string with your name and print it."
      ],
      "metadata": {
        "id": "Y9toILhIcc3a"
      }
    },
    {
      "cell_type": "code",
      "source": [
        "# Ans\n",
        "\n",
        "# creating a string with my name.\n",
        "my_name = \"umesh\"\n",
        "print(my_name)\n"
      ],
      "metadata": {
        "id": "2jATuBabyEVC",
        "colab": {
          "base_uri": "https://localhost:8080/"
        },
        "outputId": "0db1e12d-598d-4f70-c3eb-969564229d94"
      },
      "execution_count": 3,
      "outputs": [
        {
          "output_type": "stream",
          "name": "stdout",
          "text": [
            "umesh\n"
          ]
        }
      ]
    },
    {
      "cell_type": "markdown",
      "source": [
        "2.  Write a code to find the length of the string \"Hello World\"."
      ],
      "metadata": {
        "id": "KnsYMGBkeEYW"
      }
    },
    {
      "cell_type": "code",
      "source": [
        "# Ans\n",
        "\n",
        "string = \"Hello World\"\n",
        "length = len(string)\n",
        "print(length)"
      ],
      "metadata": {
        "colab": {
          "base_uri": "https://localhost:8080/"
        },
        "id": "_FTbmMlxdTYS",
        "outputId": "b83e016c-19ad-4d12-f41a-f4d7cb817741"
      },
      "execution_count": 4,
      "outputs": [
        {
          "output_type": "stream",
          "name": "stdout",
          "text": [
            "11\n"
          ]
        }
      ]
    },
    {
      "cell_type": "markdown",
      "source": [
        "3. Write a code to slice the first 3 characters from the string \"Python\n",
        "  Programming\"."
      ],
      "metadata": {
        "id": "fr_ZgDOTfF-N"
      }
    },
    {
      "cell_type": "code",
      "source": [
        "# Ans\n",
        "\n",
        "string = \"Python Programming\"\n",
        "sliced_string = string[ :3 ]\n",
        "print( sliced_string )\n"
      ],
      "metadata": {
        "colab": {
          "base_uri": "https://localhost:8080/"
        },
        "id": "DN_qUsYLgPIY",
        "outputId": "eece5bd8-a51b-446c-d59e-65f023e4a016"
      },
      "execution_count": 5,
      "outputs": [
        {
          "output_type": "stream",
          "name": "stdout",
          "text": [
            "Pyt\n"
          ]
        }
      ]
    },
    {
      "cell_type": "markdown",
      "source": [
        "4. Write a code to convert the string \"hello\" to uppercase."
      ],
      "metadata": {
        "id": "BklyALRlhRox"
      }
    },
    {
      "cell_type": "code",
      "source": [
        "# Ans\n",
        "\n",
        "string = \"hello\"\n",
        "uppercase_string = string.upper()\n",
        "print(uppercase_string)"
      ],
      "metadata": {
        "colab": {
          "base_uri": "https://localhost:8080/"
        },
        "id": "0bmkkzayhylY",
        "outputId": "38e9d75a-696f-401a-b055-f3a15322170a"
      },
      "execution_count": 6,
      "outputs": [
        {
          "output_type": "stream",
          "name": "stdout",
          "text": [
            "HELLO\n"
          ]
        }
      ]
    },
    {
      "cell_type": "markdown",
      "source": [
        "5. Write a code to replace the word \"apple\" with \"orange\" in the string \"I like apple\"."
      ],
      "metadata": {
        "id": "1xek7lp3iRAZ"
      }
    },
    {
      "cell_type": "code",
      "source": [
        "# Ans\n",
        "\n",
        "string = \"I like apple\"\n",
        "new_string = string.replace(\"apple\", \"orange\")\n",
        "print(new_string)"
      ],
      "metadata": {
        "colab": {
          "base_uri": "https://localhost:8080/"
        },
        "id": "5fug4GHKiJoG",
        "outputId": "58444e6e-bdb0-454d-9130-e84649f7f282"
      },
      "execution_count": 9,
      "outputs": [
        {
          "output_type": "stream",
          "name": "stdout",
          "text": [
            "I like orange\n"
          ]
        }
      ]
    },
    {
      "cell_type": "markdown",
      "source": [
        "6. Write a code to create a list with numbers 1 to 5 and print it."
      ],
      "metadata": {
        "id": "S2dwSykSiyBv"
      }
    },
    {
      "cell_type": "code",
      "source": [
        "# Ans\n",
        "\n",
        "list_ = [1, 2, 3, 4, 5]\n",
        "print(list_)"
      ],
      "metadata": {
        "colab": {
          "base_uri": "https://localhost:8080/"
        },
        "id": "to_lQFUdiv4j",
        "outputId": "914434fa-b60a-4a76-e016-bc3e0ec285c0"
      },
      "execution_count": 10,
      "outputs": [
        {
          "output_type": "stream",
          "name": "stdout",
          "text": [
            "[1, 2, 3, 4, 5]\n"
          ]
        }
      ]
    },
    {
      "cell_type": "markdown",
      "source": [
        "7. Write a code to append the number 10 to the list [1, 2, 3, 4]."
      ],
      "metadata": {
        "id": "kdlA4o4ejRQa"
      }
    },
    {
      "cell_type": "code",
      "source": [
        "# Ans\n",
        "\n",
        "list_ = [1, 2, 3, 4]\n",
        "list_.append(10)\n",
        "print(list_)"
      ],
      "metadata": {
        "colab": {
          "base_uri": "https://localhost:8080/"
        },
        "id": "JEbcqThrjLFQ",
        "outputId": "c6939d4b-8125-47db-f81e-c05479ed4dbd"
      },
      "execution_count": 11,
      "outputs": [
        {
          "output_type": "stream",
          "name": "stdout",
          "text": [
            "[1, 2, 3, 4, 10]\n"
          ]
        }
      ]
    },
    {
      "cell_type": "markdown",
      "source": [
        "8. Write a code to remove the number 3 from the list [1, 2, 3, 4, 5].\n",
        "  "
      ],
      "metadata": {
        "id": "tfVhPklVjxCS"
      }
    },
    {
      "cell_type": "code",
      "source": [
        "# Ans\n",
        "\n",
        "list_ = [1, 2, 3, 4, 5]\n",
        "list_.remove(3)\n",
        "print(list_)"
      ],
      "metadata": {
        "colab": {
          "base_uri": "https://localhost:8080/"
        },
        "id": "K5n4KWiCjpTO",
        "outputId": "68d47756-dd97-4ee2-cff6-32be45f74ddf"
      },
      "execution_count": 12,
      "outputs": [
        {
          "output_type": "stream",
          "name": "stdout",
          "text": [
            "[1, 2, 4, 5]\n"
          ]
        }
      ]
    },
    {
      "cell_type": "markdown",
      "source": [
        "9. Write a code to access the second element in the list ['a', 'b', 'c', 'd']."
      ],
      "metadata": {
        "id": "daG2Q4xlkK0B"
      }
    },
    {
      "cell_type": "code",
      "source": [
        "# Ans\n",
        "\n",
        "list_ = ['a', 'b', 'c', 'd']\n",
        "second_element = list_[1]\n",
        "print(second_element)"
      ],
      "metadata": {
        "colab": {
          "base_uri": "https://localhost:8080/"
        },
        "id": "ou09RpLfkGwH",
        "outputId": "35e0185a-f90e-4b25-f6ae-80c8ead63bfd"
      },
      "execution_count": 13,
      "outputs": [
        {
          "output_type": "stream",
          "name": "stdout",
          "text": [
            "b\n"
          ]
        }
      ]
    },
    {
      "cell_type": "markdown",
      "source": [
        "10. Write a code to reverse the list [10, 20, 30, 40, 50]."
      ],
      "metadata": {
        "id": "nMabWhfxkozq"
      }
    },
    {
      "cell_type": "code",
      "source": [
        "# Ans\n",
        "\n",
        "list_ = [10, 20, 30, 40, 50]\n",
        "list_.reverse()\n",
        "print( list_ )"
      ],
      "metadata": {
        "colab": {
          "base_uri": "https://localhost:8080/"
        },
        "id": "wz5ixdDWkjfV",
        "outputId": "43777b82-12b9-4593-84b3-a5d2a8dea6e5"
      },
      "execution_count": 14,
      "outputs": [
        {
          "output_type": "stream",
          "name": "stdout",
          "text": [
            "[50, 40, 30, 20, 10]\n"
          ]
        }
      ]
    },
    {
      "cell_type": "markdown",
      "source": [
        "11. Write a code to create a tuple with the elements 10, 20, 30 and print it."
      ],
      "metadata": {
        "id": "grZ7IkDfoouX"
      }
    },
    {
      "cell_type": "code",
      "source": [
        "# Ans\n",
        "\n",
        "tuple_ = (10, 20, 30)\n",
        "print(tuple_)"
      ],
      "metadata": {
        "colab": {
          "base_uri": "https://localhost:8080/"
        },
        "id": "-2ZIHuevolW6",
        "outputId": "3d4d7796-8e43-4b3b-9cd1-6d65a286b8a7"
      },
      "execution_count": 15,
      "outputs": [
        {
          "output_type": "stream",
          "name": "stdout",
          "text": [
            "(10, 20, 30)\n"
          ]
        }
      ]
    },
    {
      "cell_type": "markdown",
      "source": [
        "12.  Write a code to access the first element of the tuple ('apple', 'banana', 'cherry')."
      ],
      "metadata": {
        "id": "RjRiJLw_o_hQ"
      }
    },
    {
      "cell_type": "code",
      "source": [
        "# Ans\n",
        "\n",
        "tuple_ = ('apple', 'banana', 'cherry')\n",
        "first_element = tuple_[0]\n",
        "print(first_element)"
      ],
      "metadata": {
        "colab": {
          "base_uri": "https://localhost:8080/"
        },
        "id": "d44nNWLMo-Qm",
        "outputId": "58ade0ed-8369-4f16-8147-a13dbd7d2665"
      },
      "execution_count": 16,
      "outputs": [
        {
          "output_type": "stream",
          "name": "stdout",
          "text": [
            "apple\n"
          ]
        }
      ]
    },
    {
      "cell_type": "markdown",
      "source": [
        "13.  Write a code to count how many times the number 2 appears in the tuple (1, 2, 3, 2, 4, 2)."
      ],
      "metadata": {
        "id": "PlYvPjg8pigd"
      }
    },
    {
      "cell_type": "code",
      "source": [
        "# Ans\n",
        "\n",
        "tuple_ = (1, 2, 3, 2, 4, 2)\n",
        "count = tuple_.count(2)\n",
        "print(count)"
      ],
      "metadata": {
        "colab": {
          "base_uri": "https://localhost:8080/"
        },
        "id": "aDiYFuXnpgHA",
        "outputId": "b1311efc-1d28-49f2-acd0-1d8e8fe20044"
      },
      "execution_count": 17,
      "outputs": [
        {
          "output_type": "stream",
          "name": "stdout",
          "text": [
            "3\n"
          ]
        }
      ]
    },
    {
      "cell_type": "markdown",
      "source": [
        "14. Write a code to find the index of the element \"cat\" in the tuple ('dog', 'cat', 'rabbit')."
      ],
      "metadata": {
        "id": "IYHFFkLRyzL1"
      }
    },
    {
      "cell_type": "code",
      "source": [
        "# Ans\n",
        "\n",
        "tuple_ = ('dog', 'cat', 'rabbit')\n",
        "index = tuple_.index(\"cat\")\n",
        "print(index)"
      ],
      "metadata": {
        "colab": {
          "base_uri": "https://localhost:8080/"
        },
        "id": "k1am5HIJygQk",
        "outputId": "4785565c-400e-4c3c-bd13-11932675e78f"
      },
      "execution_count": 18,
      "outputs": [
        {
          "output_type": "stream",
          "name": "stdout",
          "text": [
            "1\n"
          ]
        }
      ]
    },
    {
      "cell_type": "markdown",
      "source": [
        "15. Write a code to check if the element \"banana\" is in the tuple ('apple', 'orange', 'banana')."
      ],
      "metadata": {
        "id": "Vm1yQT6hzTCl"
      }
    },
    {
      "cell_type": "code",
      "source": [
        "# Ans\n",
        "\n",
        "tuple_ = ('apple', 'orange', 'banana')\n",
        "if_present = \"banana\" in tuple_\n",
        "print(if_present)"
      ],
      "metadata": {
        "colab": {
          "base_uri": "https://localhost:8080/"
        },
        "id": "M3D0guUOzJYQ",
        "outputId": "896279cb-1756-449b-980d-1e44323c4c55"
      },
      "execution_count": 27,
      "outputs": [
        {
          "output_type": "stream",
          "name": "stdout",
          "text": [
            "True\n"
          ]
        }
      ]
    },
    {
      "cell_type": "markdown",
      "source": [
        "16.  Write a code to create a set with the elements 1, 2, 3, 4, 5 and print it."
      ],
      "metadata": {
        "id": "CULmFFwvzmMC"
      }
    },
    {
      "cell_type": "code",
      "source": [
        "# Ans\n",
        "\n",
        "set_ = {1, 2, 3, 4, 5}\n",
        "print(set_)"
      ],
      "metadata": {
        "colab": {
          "base_uri": "https://localhost:8080/"
        },
        "id": "ARmPH4L7zhp2",
        "outputId": "7bfedcb5-8cbb-4543-c897-fc3fe69ec4d8"
      },
      "execution_count": 20,
      "outputs": [
        {
          "output_type": "stream",
          "name": "stdout",
          "text": [
            "{1, 2, 3, 4, 5}\n"
          ]
        }
      ]
    },
    {
      "cell_type": "markdown",
      "source": [
        "17.  Write a code to add the element 6 to the set {1, 2, 3, 4}."
      ],
      "metadata": {
        "id": "_zCtfr7uz7YM"
      }
    },
    {
      "cell_type": "code",
      "source": [
        "# Ans\n",
        "\n",
        "set_ = {1,2,3,4}\n",
        "set_.add(6)\n",
        "print(set_)"
      ],
      "metadata": {
        "colab": {
          "base_uri": "https://localhost:8080/"
        },
        "id": "uM-nEkLrz5cb",
        "outputId": "fef8092d-7161-43d6-d5cf-d5892dd68d9a"
      },
      "execution_count": 21,
      "outputs": [
        {
          "output_type": "stream",
          "name": "stdout",
          "text": [
            "{1, 2, 3, 4, 6}\n"
          ]
        }
      ]
    },
    {
      "cell_type": "markdown",
      "source": [
        "18.  Write a code to create a tuple with the elements 10, 20, 30 and print it."
      ],
      "metadata": {
        "id": "ww56nmVS084v"
      }
    },
    {
      "cell_type": "code",
      "source": [
        "# Ans\n",
        "\n",
        "tuple_ = (10, 20, 30)\n",
        "print(tuple_)"
      ],
      "metadata": {
        "colab": {
          "base_uri": "https://localhost:8080/"
        },
        "id": "I75BePtx06dK",
        "outputId": "525f53c9-3f61-4a6c-fade-075f3ce8505e"
      },
      "execution_count": 22,
      "outputs": [
        {
          "output_type": "stream",
          "name": "stdout",
          "text": [
            "(10, 20, 30)\n"
          ]
        }
      ]
    },
    {
      "cell_type": "markdown",
      "source": [
        "19. Write a code to access the first element of the tuple ('apple', 'banana', 'cherry')."
      ],
      "metadata": {
        "id": "baKomBn32Bzl"
      }
    },
    {
      "cell_type": "code",
      "source": [
        "# Ans\n",
        "\n",
        "tuple_ = ('apple', 'banana', 'cherry')\n",
        "first_element = tuple_[0]\n",
        "print(first_element)"
      ],
      "metadata": {
        "colab": {
          "base_uri": "https://localhost:8080/"
        },
        "id": "FfkE54AG15Bx",
        "outputId": "1b0d900b-5de7-4317-ab00-42f5b9aa8be2"
      },
      "execution_count": 23,
      "outputs": [
        {
          "output_type": "stream",
          "name": "stdout",
          "text": [
            "apple\n"
          ]
        }
      ]
    },
    {
      "cell_type": "markdown",
      "source": [
        "20. Write a code to count how many times the number 2 appears in the tuple (1, 2, 3, 2, 4, 2)."
      ],
      "metadata": {
        "id": "PS_aQL3t2eAK"
      }
    },
    {
      "cell_type": "code",
      "source": [
        "# Ans\n",
        "\n",
        "tuple_ = (1, 2, 3, 2, 4, 2)\n",
        "count = tuple_.count(2)\n",
        "print(count)"
      ],
      "metadata": {
        "colab": {
          "base_uri": "https://localhost:8080/"
        },
        "id": "9WklsABy2ZWd",
        "outputId": "50a0643d-8366-47e6-cdc5-0180e8135b85"
      },
      "execution_count": 24,
      "outputs": [
        {
          "output_type": "stream",
          "name": "stdout",
          "text": [
            "3\n"
          ]
        }
      ]
    },
    {
      "cell_type": "markdown",
      "source": [
        "21. Write a code to find the index of the element \"cat\" in the tuple ('dog', 'cat', 'rabbit')."
      ],
      "metadata": {
        "id": "vGfWq4dk2tjJ"
      }
    },
    {
      "cell_type": "code",
      "source": [
        "# Ans\n",
        "\n",
        "tuple_ = ('dog', 'cat', 'rabbit')\n",
        "index = tuple_.index(\"cat\")\n",
        "print(index)"
      ],
      "metadata": {
        "colab": {
          "base_uri": "https://localhost:8080/"
        },
        "id": "jlGLviQX2sQe",
        "outputId": "36c558f4-9e71-47dd-d04e-e21394dcd763"
      },
      "execution_count": 25,
      "outputs": [
        {
          "output_type": "stream",
          "name": "stdout",
          "text": [
            "1\n"
          ]
        }
      ]
    },
    {
      "cell_type": "markdown",
      "source": [
        "22.  Write a code to check if the element \"banana\" is in the tuple ('apple', 'orange', 'banana')."
      ],
      "metadata": {
        "id": "KMW7B5JI3J16"
      }
    },
    {
      "cell_type": "code",
      "source": [
        "# Ans\n",
        "\n",
        "tuple_ = ('apple', 'orange', 'banana')\n",
        "if_present = \"banana\" in tuple_\n",
        "print(if_present)"
      ],
      "metadata": {
        "colab": {
          "base_uri": "https://localhost:8080/"
        },
        "id": "yqrDLK6Y27Mu",
        "outputId": "c46cf953-6ecc-4d77-ebc2-9cb1e1a05f07"
      },
      "execution_count": 26,
      "outputs": [
        {
          "output_type": "stream",
          "name": "stdout",
          "text": [
            "True\n"
          ]
        }
      ]
    },
    {
      "cell_type": "markdown",
      "source": [
        "23.  Write a code to create a set with the elements 1, 2, 3, 4, 5 and print it."
      ],
      "metadata": {
        "id": "x5EhabFA3bne"
      }
    },
    {
      "cell_type": "code",
      "source": [
        "# Ans\n",
        "\n",
        "set_ = {1, 2, 3, 4, 5}\n",
        "print(set_)"
      ],
      "metadata": {
        "colab": {
          "base_uri": "https://localhost:8080/"
        },
        "id": "nHBIqIum3SpU",
        "outputId": "5f6d783d-dca5-4620-e514-5dab7163a2e9"
      },
      "execution_count": 29,
      "outputs": [
        {
          "output_type": "stream",
          "name": "stdout",
          "text": [
            "{1, 2, 3, 4, 5}\n"
          ]
        }
      ]
    },
    {
      "cell_type": "markdown",
      "source": [
        "24. Write a code to add the element 6 to the set {1, 2, 3, 4}."
      ],
      "metadata": {
        "id": "FFewknI53rXa"
      }
    },
    {
      "cell_type": "code",
      "source": [
        "# Ans\n",
        "\n",
        "set_ = {1,2,3,4}\n",
        "set_.add(6)\n",
        "print(set_)"
      ],
      "metadata": {
        "colab": {
          "base_uri": "https://localhost:8080/"
        },
        "id": "Bw5-FnOo3qVv",
        "outputId": "a94d6c89-e25e-4794-c472-444db41ee471"
      },
      "execution_count": 30,
      "outputs": [
        {
          "output_type": "stream",
          "name": "stdout",
          "text": [
            "{1, 2, 3, 4, 6}\n"
          ]
        }
      ]
    }
  ]
}